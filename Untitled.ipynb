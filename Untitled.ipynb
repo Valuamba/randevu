{
 "cells": [
  {
   "cell_type": "code",
   "execution_count": 1,
   "id": "92016624",
   "metadata": {},
   "outputs": [],
   "source": [
    "# A script that's needed to setup django if it's not already running on a server.\n",
    "# Without this, you won't be able to import django modules\n",
    "import sys, os, django\n",
    "\n",
    "# Find the project base directory\n",
    "BASE_DIR = './'\n",
    "\n",
    "# Add the project base directory to the sys.path\n",
    "# This means the script will look in the base directory for any module imports\n",
    "# Therefore you'll be able to import analysis.models etc\n",
    "sys.path.insert(0, BASE_DIR)\n",
    "\n",
    "# The DJANGO_SETTINGS_MODULE has to be set to allow us to access django imports\n",
    "os.environ.setdefault(\"DJANGO_SETTINGS_MODULE\", \"randevu.settings\")\n",
    "\n",
    "#  Allow queryset filtering asynchronously when running in a Jupyter notebook\n",
    "os.environ[\"DJANGO_ALLOW_ASYNC_UNSAFE\"] = \"true\"\n",
    "\n",
    "# This is for setting up django\n",
    "django.setup()"
   ]
  },
  {
   "cell_type": "code",
   "execution_count": 2,
   "id": "34a269d4-a3cb-4e43-afa2-1eaf8d535459",
   "metadata": {},
   "outputs": [],
   "source": [
    "from django.db import models\n",
    "\n",
    "from apps.users.models import User"
   ]
  },
  {
   "cell_type": "code",
   "execution_count": 4,
   "id": "3d16569b-f868-46fd-a0d1-c9ca3b3084e6",
   "metadata": {},
   "outputs": [
    {
     "name": "stdout",
     "output_type": "stream",
     "text": [
      "[<User: string>, <User: admin@mail.ru>, <User: rexar@mail.ru>, <User: nulla aute commodo sint>, <User: user@example.com>, <User: bes@example.com>, <User: string>, <User: string>, <User: string>, <User: nulla aute commodo sint>]\n"
     ]
    }
   ],
   "source": [
    "s = list(User.objects.all())\n",
    "\n",
    "print(s)"
   ]
  },
  {
   "cell_type": "code",
   "execution_count": 25,
   "id": "8ed9e7d2-b9af-4c96-931f-b30722e0e05a",
   "metadata": {},
   "outputs": [
    {
     "name": "stdout",
     "output_type": "stream",
     "text": [
      "48\n"
     ]
    }
   ],
   "source": [
    "step = 30\n",
    "\n",
    "time_steps = int(24 * 60 / step)\n",
    "\n",
    "print(time_steps)"
   ]
  },
  {
   "cell_type": "code",
   "execution_count": 29,
   "id": "c106692c",
   "metadata": {},
   "outputs": [
    {
     "name": "stdout",
     "output_type": "stream",
     "text": [
      "[{'label': '0:00', 'value': 0},\n",
      " {'label': '0:30', 'value': 1},\n",
      " {'label': '1:00', 'value': 2},\n",
      " {'label': '1:30', 'value': 3},\n",
      " {'label': '2:00', 'value': 4},\n",
      " {'label': '2:30', 'value': 5},\n",
      " {'label': '3:00', 'value': 6},\n",
      " {'label': '3:30', 'value': 7},\n",
      " {'label': '4:00', 'value': 8},\n",
      " {'label': '4:30', 'value': 9},\n",
      " {'label': '5:00', 'value': 10},\n",
      " {'label': '5:30', 'value': 11},\n",
      " {'label': '6:00', 'value': 12},\n",
      " {'label': '6:30', 'value': 13},\n",
      " {'label': '7:00', 'value': 14},\n",
      " {'label': '7:30', 'value': 15},\n",
      " {'label': '8:00', 'value': 16},\n",
      " {'label': '8:30', 'value': 17},\n",
      " {'label': '9:00', 'value': 18},\n",
      " {'label': '9:30', 'value': 19},\n",
      " {'label': '10:00', 'value': 20},\n",
      " {'label': '10:30', 'value': 21},\n",
      " {'label': '11:00', 'value': 22},\n",
      " {'label': '11:30', 'value': 23},\n",
      " {'label': '12:00', 'value': 24},\n",
      " {'label': '12:30', 'value': 25},\n",
      " {'label': '13:00', 'value': 26},\n",
      " {'label': '13:30', 'value': 27},\n",
      " {'label': '14:00', 'value': 28},\n",
      " {'label': '14:30', 'value': 29},\n",
      " {'label': '15:00', 'value': 30},\n",
      " {'label': '15:30', 'value': 31},\n",
      " {'label': '16:00', 'value': 32},\n",
      " {'label': '16:30', 'value': 33},\n",
      " {'label': '17:00', 'value': 34},\n",
      " {'label': '17:30', 'value': 35},\n",
      " {'label': '18:00', 'value': 36},\n",
      " {'label': '18:30', 'value': 37},\n",
      " {'label': '19:00', 'value': 38},\n",
      " {'label': '19:30', 'value': 39},\n",
      " {'label': '20:00', 'value': 40},\n",
      " {'label': '20:30', 'value': 41},\n",
      " {'label': '21:00', 'value': 42},\n",
      " {'label': '21:30', 'value': 43},\n",
      " {'label': '22:00', 'value': 44},\n",
      " {'label': '22:30', 'value': 45},\n",
      " {'label': '23:00', 'value': 46},\n",
      " {'label': '23:30', 'value': 47}]\n",
      "None\n"
     ]
    }
   ],
   "source": [
    "from datetime import timedelta\n",
    "from pprint import pprint\n",
    "\n",
    "times = []\n",
    "for i in range(time_steps):\n",
    "    times.append({\n",
    "        'value': i,\n",
    "        'label': ':'.join(str(timedelta(minutes=i * step)).split(':')[:2])\n",
    "    })\n",
    "    \n",
    "    #     d = timedelta(minutes=i * step)\n",
    "#     print()\n",
    "#     print(d.minutes)\n",
    "\n",
    "# print(timedelta(minutes=630))\n",
    "# hour = 660 // 60\n",
    "\n",
    "# print(hour)"
   ]
  },
  {
   "cell_type": "code",
   "execution_count": null,
   "id": "621c8622",
   "metadata": {},
   "outputs": [],
   "source": []
  }
 ],
 "metadata": {
  "kernelspec": {
   "display_name": "Django Kernel",
   "language": "python",
   "name": "django_extensions"
  },
  "language_info": {
   "codemirror_mode": {
    "name": "ipython",
    "version": 3
   },
   "file_extension": ".py",
   "mimetype": "text/x-python",
   "name": "python",
   "nbconvert_exporter": "python",
   "pygments_lexer": "ipython3",
   "version": "3.11.0"
  }
 },
 "nbformat": 4,
 "nbformat_minor": 5
}
